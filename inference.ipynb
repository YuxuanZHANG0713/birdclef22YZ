{
 "cells": [
  {
   "cell_type": "markdown",
   "metadata": {
    "papermill": {
     "duration": 0.010896,
     "end_time": "2020-09-07T08:04:14.415224",
     "exception": false,
     "start_time": "2020-09-07T08:04:14.404328",
     "status": "completed"
    },
    "tags": []
   },
   "source": [
    "# Birdsong Pytorch Baseline: Inference - 2022"
   ]
  },
  {
   "cell_type": "markdown",
   "metadata": {
    "papermill": {
     "duration": 0.010679,
     "end_time": "2020-09-07T08:04:14.435646",
     "exception": false,
     "start_time": "2020-09-07T08:04:14.424967",
     "status": "completed"
    },
    "tags": []
   },
   "source": [
    "## About\n",
    "\n",
    "Resnet-50 as baseline\n",
    "\n",
    "This is a notebook for **_inference & submission_**. \n",
    "\n",
    "Most of this notebook consists of [great baseline](https://www.kaggle.com/hidehisaarai1213/inference-pytorch-birdcall-resnet-baseline) shared by @hidehisaarai1213 .  \n",
    "Thank you for sharing !"
   ]
  },
  {
   "cell_type": "markdown",
   "metadata": {
    "papermill": {
     "duration": 0.009209,
     "end_time": "2020-09-07T08:04:14.454378",
     "exception": false,
     "start_time": "2020-09-07T08:04:14.445169",
     "status": "completed"
    },
    "tags": []
   },
   "source": [
    "## Prepare"
   ]
  },
  {
   "cell_type": "markdown",
   "metadata": {
    "papermill": {
     "duration": 0.009846,
     "end_time": "2020-09-07T08:04:14.474048",
     "exception": false,
     "start_time": "2020-09-07T08:04:14.464202",
     "status": "completed"
    },
    "tags": []
   },
   "source": [
    "### import libraries"
   ]
  },
  {
   "cell_type": "code",
   "execution_count": 1,
   "metadata": {
    "_cell_guid": "b1076dfc-b9ad-4769-8c92-a6c4dae69d19",
    "_uuid": "8f2839f25d086af736a60e9eeb907d3b93b6e0e5",
    "execution": {
     "iopub.execute_input": "2020-09-07T08:04:14.504417Z",
     "iopub.status.busy": "2020-09-07T08:04:14.503791Z",
     "iopub.status.idle": "2020-09-07T08:04:18.688674Z",
     "shell.execute_reply": "2020-09-07T08:04:18.689881Z"
    },
    "papermill": {
     "duration": 4.205965,
     "end_time": "2020-09-07T08:04:18.690186",
     "exception": false,
     "start_time": "2020-09-07T08:04:14.484221",
     "status": "completed"
    },
    "tags": []
   },
   "outputs": [
    {
     "name": "stdout",
     "output_type": "stream",
     "text": [
      "Requirement already satisfied: fastprogress in c:\\users\\dell\\anaconda3\\envs\\envtf22\\lib\\site-packages (1.0.2)\n"
     ]
    }
   ],
   "source": [
    "!pip install fastprogress\n",
    "\n",
    "import os\n",
    "import gc\n",
    "import time\n",
    "import math\n",
    "import shutil\n",
    "import random\n",
    "import warnings\n",
    "import typing as tp\n",
    "from pathlib import Path\n",
    "from contextlib import contextmanager\n",
    "import torchvision.models as models\n",
    "import yaml\n",
    "from joblib import delayed, Parallel\n",
    "\n",
    "import cv2\n",
    "import librosa\n",
    "import audioread\n",
    "import soundfile as sf\n",
    "\n",
    "import numpy as np\n",
    "import pandas as pd\n",
    "\n",
    "from fastprogress import progress_bar\n",
    "from sklearn.metrics import f1_score\n",
    "from sklearn.model_selection import StratifiedKFold\n",
    "\n",
    "import torch\n",
    "import torch.nn as nn\n",
    "import torch.nn.functional as F\n",
    "from torch.nn import Conv2d, Module, Linear, BatchNorm2d, ReLU\n",
    "from torch.nn.modules.utils import _pair\n",
    "import torch.utils.data as data\n",
    "\n",
    "pd.options.display.max_rows = 500\n",
    "pd.options.display.max_columns = 500"
   ]
  },
  {
   "cell_type": "markdown",
   "metadata": {
    "_cell_guid": "79c7e3d0-c299-4dcb-8224-4455121ee9b0",
    "_uuid": "d629ff2d2480ee46fbb7e2d37f6b5fab8052498a",
    "collapsed": true,
    "papermill": {
     "duration": 0.014814,
     "end_time": "2020-09-07T08:04:18.719354",
     "exception": false,
     "start_time": "2020-09-07T08:04:18.704540",
     "status": "completed"
    },
    "tags": []
   },
   "source": [
    "### define utilities"
   ]
  },
  {
   "cell_type": "code",
   "execution_count": 2,
   "metadata": {
    "execution": {
     "iopub.execute_input": "2020-09-07T08:04:18.763480Z",
     "iopub.status.busy": "2020-09-07T08:04:18.760145Z",
     "iopub.status.idle": "2020-09-07T08:04:18.766762Z",
     "shell.execute_reply": "2020-09-07T08:04:18.767971Z"
    },
    "papermill": {
     "duration": 0.034755,
     "end_time": "2020-09-07T08:04:18.768220",
     "exception": false,
     "start_time": "2020-09-07T08:04:18.733465",
     "status": "completed"
    },
    "tags": []
   },
   "outputs": [],
   "source": [
    "def set_seed(seed: int = 42):\n",
    "    random.seed(seed)\n",
    "    np.random.seed(seed)\n",
    "    os.environ[\"PYTHONHASHSEED\"] = str(seed)\n",
    "    torch.manual_seed(seed)\n",
    "    torch.cuda.manual_seed(seed)  # type: ignore\n",
    "#     torch.backends.cudnn.deterministic = True  # type: ignore\n",
    "#     torch.backends.cudnn.benchmark = True  # type: ignore\n",
    "    \n",
    "\n",
    "@contextmanager\n",
    "def timer(name: str) -> None:\n",
    "    \"\"\"Timer Util\"\"\"\n",
    "    t0 = time.time()\n",
    "    #print(\"[{}] start\".format(name))\n",
    "    yield\n",
    "    #print(\"[{}] done in {:.0f} s\".format(name, time.time() - t0))"
   ]
  },
  {
   "cell_type": "code",
   "execution_count": 3,
   "metadata": {
    "execution": {
     "iopub.execute_input": "2020-09-07T08:04:18.811798Z",
     "iopub.status.busy": "2020-09-07T08:04:18.808864Z",
     "iopub.status.idle": "2020-09-07T08:04:18.812703Z",
     "shell.execute_reply": "2020-09-07T08:04:18.813408Z"
    },
    "papermill": {
     "duration": 0.027739,
     "end_time": "2020-09-07T08:04:18.813567",
     "exception": false,
     "start_time": "2020-09-07T08:04:18.785828",
     "status": "completed"
    },
    "tags": []
   },
   "outputs": [],
   "source": [
    "# logger = get_logger(\"main.log\")\n",
    "set_seed(1213)"
   ]
  },
  {
   "cell_type": "markdown",
   "metadata": {
    "papermill": {
     "duration": 0.013478,
     "end_time": "2020-09-07T08:04:18.840826",
     "exception": false,
     "start_time": "2020-09-07T08:04:18.827348",
     "status": "completed"
    },
    "tags": []
   },
   "source": [
    "### read data"
   ]
  },
  {
   "cell_type": "code",
   "execution_count": 4,
   "metadata": {
    "execution": {
     "iopub.execute_input": "2020-09-07T08:04:18.877838Z",
     "iopub.status.busy": "2020-09-07T08:04:18.876840Z",
     "iopub.status.idle": "2020-09-07T08:04:18.879411Z",
     "shell.execute_reply": "2020-09-07T08:04:18.878653Z"
    },
    "papermill": {
     "duration": 0.024755,
     "end_time": "2020-09-07T08:04:18.879539",
     "exception": false,
     "start_time": "2020-09-07T08:04:18.854784",
     "status": "completed"
    },
    "tags": []
   },
   "outputs": [],
   "source": [
    "ROOT = Path.cwd()\n",
    "INPUT_ROOT = ROOT / \"input\"\n",
    "RAW_DATA = INPUT_ROOT / \"birdclef-2022\"\n",
    "TRAIN_AUDIO_DIR = RAW_DATA / \"train_audio\"\n",
    "# TRAIN_RESAMPLED_AUDIO_DIRS = [\n",
    "#   INPUT_ROOT / \"birdsong-resampled-train-audio-{:0>2}\".format(i)  for i in range(5)\n",
    "# ]\n",
    "TEST_AUDIO_DIR = RAW_DATA / \"test_soundscapes\""
   ]
  },
  {
   "cell_type": "code",
   "execution_count": 5,
   "metadata": {
    "execution": {
     "iopub.execute_input": "2020-09-07T08:04:19.325453Z",
     "iopub.status.busy": "2020-09-07T08:04:19.321167Z",
     "iopub.status.idle": "2020-09-07T08:04:19.329852Z",
     "shell.execute_reply": "2020-09-07T08:04:19.330957Z"
    },
    "papermill": {
     "duration": 0.036471,
     "end_time": "2020-09-07T08:04:19.331147",
     "exception": false,
     "start_time": "2020-09-07T08:04:19.294676",
     "status": "completed"
    },
    "tags": []
   },
   "outputs": [],
   "source": [
    "test = pd.read_csv(RAW_DATA / \"test.csv\")"
   ]
  },
  {
   "cell_type": "code",
   "execution_count": 6,
   "metadata": {
    "_kg_hide-output": true,
    "execution": {
     "iopub.execute_input": "2020-09-07T08:04:19.473377Z",
     "iopub.status.busy": "2020-09-07T08:04:19.472527Z",
     "iopub.status.idle": "2020-09-07T08:04:19.491375Z",
     "shell.execute_reply": "2020-09-07T08:04:19.492418Z"
    },
    "papermill": {
     "duration": 0.05629,
     "end_time": "2020-09-07T08:04:19.492561",
     "exception": false,
     "start_time": "2020-09-07T08:04:19.436271",
     "status": "completed"
    },
    "tags": []
   },
   "outputs": [
    {
     "data": {
      "text/html": [
       "<div>\n",
       "<style scoped>\n",
       "    .dataframe tbody tr th:only-of-type {\n",
       "        vertical-align: middle;\n",
       "    }\n",
       "\n",
       "    .dataframe tbody tr th {\n",
       "        vertical-align: top;\n",
       "    }\n",
       "\n",
       "    .dataframe thead th {\n",
       "        text-align: right;\n",
       "    }\n",
       "</style>\n",
       "<table border=\"1\" class=\"dataframe\">\n",
       "  <thead>\n",
       "    <tr style=\"text-align: right;\">\n",
       "      <th></th>\n",
       "      <th>row_id</th>\n",
       "      <th>file_id</th>\n",
       "      <th>bird</th>\n",
       "      <th>end_time</th>\n",
       "    </tr>\n",
       "  </thead>\n",
       "  <tbody>\n",
       "    <tr>\n",
       "      <th>0</th>\n",
       "      <td>soundscape_453028782_akiapo_5</td>\n",
       "      <td>soundscape_453028782</td>\n",
       "      <td>akiapo</td>\n",
       "      <td>5</td>\n",
       "    </tr>\n",
       "    <tr>\n",
       "      <th>1</th>\n",
       "      <td>soundscape_453028782_akiapo_10</td>\n",
       "      <td>soundscape_453028782</td>\n",
       "      <td>akiapo</td>\n",
       "      <td>10</td>\n",
       "    </tr>\n",
       "    <tr>\n",
       "      <th>2</th>\n",
       "      <td>soundscape_453028782_akiapo_15</td>\n",
       "      <td>soundscape_453028782</td>\n",
       "      <td>akiapo</td>\n",
       "      <td>15</td>\n",
       "    </tr>\n",
       "    <tr>\n",
       "      <th>3</th>\n",
       "      <td>soundscape_453028782_aniani_5</td>\n",
       "      <td>soundscape_453028782</td>\n",
       "      <td>aniani</td>\n",
       "      <td>5</td>\n",
       "    </tr>\n",
       "    <tr>\n",
       "      <th>4</th>\n",
       "      <td>soundscape_453028782_aniani_10</td>\n",
       "      <td>soundscape_453028782</td>\n",
       "      <td>aniani</td>\n",
       "      <td>10</td>\n",
       "    </tr>\n",
       "  </tbody>\n",
       "</table>\n",
       "</div>"
      ],
      "text/plain": [
       "                           row_id               file_id    bird  end_time\n",
       "0   soundscape_453028782_akiapo_5  soundscape_453028782  akiapo         5\n",
       "1  soundscape_453028782_akiapo_10  soundscape_453028782  akiapo        10\n",
       "2  soundscape_453028782_akiapo_15  soundscape_453028782  akiapo        15\n",
       "3   soundscape_453028782_aniani_5  soundscape_453028782  aniani         5\n",
       "4  soundscape_453028782_aniani_10  soundscape_453028782  aniani        10"
      ]
     },
     "execution_count": 6,
     "metadata": {},
     "output_type": "execute_result"
    }
   ],
   "source": [
    "test.head()"
   ]
  },
  {
   "cell_type": "code",
   "execution_count": 7,
   "metadata": {},
   "outputs": [
    {
     "data": {
      "text/html": [
       "<div>\n",
       "<style scoped>\n",
       "    .dataframe tbody tr th:only-of-type {\n",
       "        vertical-align: middle;\n",
       "    }\n",
       "\n",
       "    .dataframe tbody tr th {\n",
       "        vertical-align: top;\n",
       "    }\n",
       "\n",
       "    .dataframe thead th {\n",
       "        text-align: right;\n",
       "    }\n",
       "</style>\n",
       "<table border=\"1\" class=\"dataframe\">\n",
       "  <thead>\n",
       "    <tr style=\"text-align: right;\">\n",
       "      <th></th>\n",
       "      <th>file_id</th>\n",
       "      <th>end_time</th>\n",
       "    </tr>\n",
       "  </thead>\n",
       "  <tbody>\n",
       "    <tr>\n",
       "      <th>0</th>\n",
       "      <td>soundscape_453028782</td>\n",
       "      <td>5</td>\n",
       "    </tr>\n",
       "    <tr>\n",
       "      <th>1</th>\n",
       "      <td>soundscape_453028782</td>\n",
       "      <td>10</td>\n",
       "    </tr>\n",
       "    <tr>\n",
       "      <th>2</th>\n",
       "      <td>soundscape_453028782</td>\n",
       "      <td>15</td>\n",
       "    </tr>\n",
       "  </tbody>\n",
       "</table>\n",
       "</div>"
      ],
      "text/plain": [
       "                file_id  end_time\n",
       "0  soundscape_453028782         5\n",
       "1  soundscape_453028782        10\n",
       "2  soundscape_453028782        15"
      ]
     },
     "execution_count": 7,
     "metadata": {},
     "output_type": "execute_result"
    }
   ],
   "source": [
    "test_unique = test[['file_id', 'end_time']].drop_duplicates(subset=['file_id','end_time'])\n",
    "test_unique "
   ]
  },
  {
   "cell_type": "code",
   "execution_count": 8,
   "metadata": {
    "execution": {
     "iopub.execute_input": "2020-09-07T08:04:19.563338Z",
     "iopub.status.busy": "2020-09-07T08:04:19.562546Z",
     "iopub.status.idle": "2020-09-07T08:04:19.794598Z",
     "shell.execute_reply": "2020-09-07T08:04:19.793749Z"
    },
    "papermill": {
     "duration": 0.254292,
     "end_time": "2020-09-07T08:04:19.794722",
     "exception": false,
     "start_time": "2020-09-07T08:04:19.540430",
     "status": "completed"
    },
    "tags": []
   },
   "outputs": [],
   "source": [
    "sub = pd.read_csv(\"./input/birdclef-2022/sample_submission.csv\")\n",
    "sub.to_csv(\"submission.csv\", index=False)  # this will be overwritten if everything goes well"
   ]
  },
  {
   "cell_type": "markdown",
   "metadata": {
    "papermill": {
     "duration": 0.010524,
     "end_time": "2020-09-07T08:04:19.816507",
     "exception": false,
     "start_time": "2020-09-07T08:04:19.805983",
     "status": "completed"
    },
    "tags": []
   },
   "source": [
    "### set parameters"
   ]
  },
  {
   "cell_type": "code",
   "execution_count": 9,
   "metadata": {
    "execution": {
     "iopub.execute_input": "2020-09-07T08:04:19.844529Z",
     "iopub.status.busy": "2020-09-07T08:04:19.843814Z",
     "iopub.status.idle": "2020-09-07T08:04:19.846974Z",
     "shell.execute_reply": "2020-09-07T08:04:19.847468Z"
    },
    "papermill": {
     "duration": 0.020352,
     "end_time": "2020-09-07T08:04:19.847587",
     "exception": false,
     "start_time": "2020-09-07T08:04:19.827235",
     "status": "completed"
    },
    "tags": []
   },
   "outputs": [],
   "source": [
    "TARGET_SR = 32000\n",
    "\n",
    "model_config = {\"name\": \"resnet50\",\n",
    "\"params\":{\n",
    "    \"pretrained\": True,\n",
    "    \"n_classes\": 152 #changed\n",
    "    }\n",
    "}\n",
    "\n",
    "melspectrogram_parameters = {\n",
    "    \"n_mels\": 128,\n",
    "    \"fmin\": 20,\n",
    "    \"fmax\": 16000,\n",
    "    \"n_fft\": 1024,\n",
    "    \"hop_length\": 256\n",
    "}\n",
    "\n"
   ]
  },
  {
   "cell_type": "markdown",
   "metadata": {
    "papermill": {
     "duration": 0.010363,
     "end_time": "2020-09-07T08:04:19.868668",
     "exception": false,
     "start_time": "2020-09-07T08:04:19.858305",
     "status": "completed"
    },
    "tags": []
   },
   "source": [
    "## Definition"
   ]
  },
  {
   "cell_type": "markdown",
   "metadata": {
    "papermill": {
     "duration": 0.010771,
     "end_time": "2020-09-07T08:04:19.890309",
     "exception": false,
     "start_time": "2020-09-07T08:04:19.879538",
     "status": "completed"
    },
    "tags": []
   },
   "source": [
    "### Dataset"
   ]
  },
  {
   "cell_type": "code",
   "execution_count": 10,
   "metadata": {
    "_kg_hide-input": true,
    "execution": {
     "iopub.execute_input": "2020-09-07T08:04:19.946052Z",
     "iopub.status.busy": "2020-09-07T08:04:19.925322Z",
     "iopub.status.idle": "2020-09-07T08:04:19.967159Z",
     "shell.execute_reply": "2020-09-07T08:04:19.966647Z"
    },
    "papermill": {
     "duration": 0.066253,
     "end_time": "2020-09-07T08:04:19.967263",
     "exception": false,
     "start_time": "2020-09-07T08:04:19.901010",
     "status": "completed"
    },
    "tags": []
   },
   "outputs": [],
   "source": [
    "BIRD_CODE = {'afrsil1': 0, 'akekee': 1, 'akepa1': 2, 'akiapo': 3, 'akikik': 4, \n",
    "    'amewig': 5, 'aniani': 6, 'apapan': 7, 'arcter': 8, 'barpet': 9, \n",
    "    'bcnher': 10, 'belkin1': 11, 'bkbplo': 12, 'bknsti': 13, 'bkwpet': 14, \n",
    "    'blkfra': 15, 'blknod': 16, 'bongul': 17, 'brant': 18, 'brnboo': 19, \n",
    "    'brnnod': 20, 'brnowl': 21, 'brtcur': 22, 'bubsan': 23, 'buffle': 24, \n",
    "    'bulpet': 25, 'burpar': 26, 'buwtea': 27, 'cacgoo1': 28, 'calqua': 29, \n",
    "    'cangoo': 30, 'canvas': 31, 'caster1': 32, 'categr': 33, 'chbsan': 34, \n",
    "    'chemun': 35, 'chukar': 36, 'cintea': 37, 'comgal1': 38, 'commyn': 39, \n",
    "    'compea': 40, 'comsan': 41, 'comwax': 42, 'coopet': 43, 'crehon': 44, \n",
    "    'dunlin': 45, 'elepai': 46, 'ercfra': 47, 'eurwig': 48, 'fragul': 49, \n",
    "    'gadwal': 50, 'gamqua': 51, 'glwgul': 52, 'gnwtea': 53, 'golphe': 54, \n",
    "    'grbher3': 55, 'grefri': 56, 'gresca': 57, 'gryfra': 58, 'gwfgoo': 59, \n",
    "    'hawama': 60, 'hawcoo': 61, 'hawcre': 62, 'hawgoo': 63, 'hawhaw': 64, \n",
    "    'hawpet1': 65, 'hoomer': 66, 'houfin': 67, 'houspa': 68, 'hudgod': 69, \n",
    "    'iiwi': 70, 'incter1': 71, 'jabwar': 72, 'japqua': 73, 'kalphe': 74, \n",
    "    'kauama': 75, 'laugul': 76, 'layalb': 77, 'lcspet': 78, 'leasan': 79, \n",
    "    'leater1': 80, 'lessca': 81, 'lesyel': 82, 'lobdow': 83, 'lotjae': 84, \n",
    "    'madpet': 85, 'magpet1': 86, 'mallar3': 87, 'masboo': 88, 'mauala': 89, \n",
    "    'maupar': 90, 'merlin': 91, 'mitpar': 92, 'moudov': 93, 'norcar': 94, \n",
    "    'norhar2': 95, 'normoc': 96, 'norpin': 97, 'norsho': 98, 'nutman': 99, \n",
    "    'oahama': 100, 'omao': 101, 'osprey': 102, 'pagplo': 103, 'palila': 104, \n",
    "    'parjae': 105, 'pecsan': 106, 'peflov': 107, 'perfal': 108, 'pibgre': 109, \n",
    "    'pomjae': 110, 'puaioh': 111, 'reccar': 112, 'redava': 113, 'redjun': 114, \n",
    "    'redpha1': 115, 'refboo': 116, 'rempar': 117, 'rettro': 118, 'ribgul': 119, \n",
    "    'rinduc': 120, 'rinphe': 121, 'rocpig': 122, 'rorpar': 123, 'rudtur': 124, \n",
    "    'ruff': 125, 'saffin': 126, 'sander': 127, 'semplo': 128, 'sheowl': 129, \n",
    "    'shtsan': 130, 'skylar': 131, 'snogoo': 132, 'sooshe': 133, 'sooter1': 134, \n",
    "    'sopsku1': 135, 'sora': 136, 'spodov': 137, 'sposan': 138, 'towsol': 139, \n",
    "    'wantat1': 140, 'warwhe1': 141, 'wesmea': 142, 'wessan': 143, 'wetshe': 144, \n",
    "    'whfibi': 145, 'whiter': 146, 'whttro': 147, 'wiltur': 148, 'yebcar': 149, \n",
    "    'yefcan': 150, 'zebdov': 151}\n",
    "\n",
    "INV_BIRD_CODE = {v: k for k, v in BIRD_CODE.items()}\n"
   ]
  },
  {
   "cell_type": "code",
   "execution_count": 11,
   "metadata": {
    "execution": {
     "iopub.execute_input": "2020-09-07T08:04:20.090452Z",
     "iopub.status.busy": "2020-09-07T08:04:20.074748Z",
     "iopub.status.idle": "2020-09-07T08:04:20.097213Z",
     "shell.execute_reply": "2020-09-07T08:04:20.097662Z"
    },
    "papermill": {
     "duration": 0.047129,
     "end_time": "2020-09-07T08:04:20.097773",
     "exception": false,
     "start_time": "2020-09-07T08:04:20.050644",
     "status": "completed"
    },
    "tags": []
   },
   "outputs": [],
   "source": [
    "def mono_to_color(X: np.ndarray,\n",
    "                  mean=None,\n",
    "                  std=None,\n",
    "                  norm_max=None,\n",
    "                  norm_min=None,\n",
    "                  eps=1e-6):\n",
    "    \"\"\"\n",
    "    Code from https://www.kaggle.com/daisukelab/creating-fat2019-preprocessed-data\n",
    "    \"\"\"\n",
    "    # Stack X as [X,X,X]\n",
    "    X = np.stack([X, X, X], axis=-1)\n",
    "\n",
    "    # Standardize\n",
    "    mean = mean or X.mean()\n",
    "    X = X - mean\n",
    "    std = std or X.std()\n",
    "    Xstd = X / (std + eps)\n",
    "    _min, _max = Xstd.min(), Xstd.max()\n",
    "    norm_max = norm_max or _max\n",
    "    norm_min = norm_min or _min\n",
    "    if (_max - _min) > eps:\n",
    "        # Normalize to [0, 255]\n",
    "        V = Xstd\n",
    "        V[V < norm_min] = norm_min\n",
    "        V[V > norm_max] = norm_max\n",
    "        V = 255 * (V - norm_min) / (norm_max - norm_min)\n",
    "        V = V.astype(np.uint8)\n",
    "    else:\n",
    "        # Just zero\n",
    "        V = np.zeros_like(Xstd, dtype=np.uint8)\n",
    "    return V\n"
   ]
  },
  {
   "cell_type": "code",
   "execution_count": 12,
   "metadata": {},
   "outputs": [],
   "source": [
    "class TestDatasetNew(data.Dataset):\n",
    "    def __init__(self, df: pd.DataFrame, clip: np.ndarray,\n",
    "                 img_size=224, melspectrogram_parameters={}):\n",
    "        self.df = df\n",
    "        self.clip = clip\n",
    "        self.img_size = img_size\n",
    "        self.melspectrogram_parameters = melspectrogram_parameters\n",
    "        \n",
    "    def __len__(self):\n",
    "        return len(self.df)\n",
    "    \n",
    "    def __getitem__(self, idx: int):\n",
    "        SR = 32000\n",
    "        sample = self.df.loc[idx, :]\n",
    "        # site = sample.site\n",
    "        # row_id = sample.row_id\n",
    "        file_id = sample.file_id\n",
    "        end_time = sample.end_time\n",
    "        \n",
    "        end_seconds = int(end_time)\n",
    "        start_seconds = int(end_seconds - 5)\n",
    "        \n",
    "        start_index = SR * start_seconds\n",
    "        end_index = SR * end_seconds\n",
    "        \n",
    "        y = self.clip[start_index:end_index].astype(np.float32)\n",
    "\n",
    "        melspec = librosa.feature.melspectrogram(y, sr=SR, **self.melspectrogram_parameters)\n",
    "        melspec_base = librosa.power_to_db(melspec).astype(np.float32)\n",
    "        #print('this is the melspec shape site 1',melspec.shape)\n",
    "        image = mono_to_color(melspec)\n",
    "        height, width, _ = image.shape\n",
    "        image = cv2.resize(image, (int(width * self.img_size / height), self.img_size))\n",
    "        image = np.moveaxis(image, 2, 0)\n",
    "        image = (image / 255.0).astype(np.float32)\n",
    "\n",
    "        return np.array(image), file_id, end_time "
   ]
  },
  {
   "cell_type": "markdown",
   "metadata": {
    "papermill": {
     "duration": 0.011155,
     "end_time": "2020-09-07T08:04:20.120287",
     "exception": false,
     "start_time": "2020-09-07T08:04:20.109132",
     "status": "completed"
    },
    "tags": []
   },
   "source": [
    "### model\n"
   ]
  },
  {
   "cell_type": "code",
   "execution_count": 13,
   "metadata": {},
   "outputs": [],
   "source": [
    "from torchvision import models\n",
    "\n",
    "import torch as t\n",
    "import torch.nn as nn\n",
    "from torch.nn import functional as F\n",
    "\n",
    "\n",
    "class ResidualBlock(nn.Module):\n",
    "    #显式的继承自nn.Module\n",
    "    #resnet是卷积的一种\n",
    "    def __init__(self, inchannel, outchannel, stride=1, shortcut=None):\n",
    "        #shortcut是直连，resnet和densenet的精髓所在\n",
    "        #层的定义都在初始化里\n",
    "        super(ResidualBlock, self).__init__()\n",
    "        self.left = nn.Sequential(\n",
    "                nn.Conv2d(inchannel, outchannel, 3, stride, 1, bias=False),\n",
    "                nn.BatchNorm2d(outchannel),\n",
    "                nn.ReLU(inplace=True),\n",
    "                nn.Conv2d(outchannel,outchannel,3,1,1,bias=False),\n",
    "                nn.BatchNorm2d(outchannel))\n",
    "        self.right = shortcut\n",
    "    \n",
    "    def forward(self,x):\n",
    "        out = self.left(x)\n",
    "        residual = x if self.right is None else self.right(x)\n",
    "        out += residual\n",
    "        return F.relu(out)\n",
    "    \n",
    "\n",
    "class ResNet(nn.Module):\n",
    "    #包括34，50，101等多种结构，可以按需实现，这里是Resnet34\n",
    "    def __init__(self, num_classes=152):\n",
    "        super(ResNet,self).__init__()\n",
    "        self.pre = nn.Sequential(nn.Conv2d(3,64,7,2,3,bias=False),\n",
    "                                 nn.BatchNorm2d(64),#这个64是指feature_num\n",
    "                                 nn.ReLU(inplace=True),\n",
    "                                 nn.MaxPool2d(3,2,1) )\n",
    "        self.layer1 = self._make_layer(64, 128, 3)\n",
    "        self.layer2 = self._make_layer(128, 256, 4, stride=2)\n",
    "        self.layer3 = self._make_layer(256, 512, 6, stride=2)\n",
    "        self.layer4 = self._make_layer(512, 512, 3, stride=2)\n",
    "        self.adp = nn.AdaptiveAvgPool2d(output_size = 1)\n",
    "        self.classifier = nn.Linear(512, num_classes)\n",
    "\n",
    "    def _make_layer(self, inchannel, outchannel, block_num, stride=1):\n",
    "        short_cut = nn.Sequential(\n",
    "                nn.Conv2d(inchannel,outchannel,1,stride,bias=False),\n",
    "                nn.BatchNorm2d(outchannel)\n",
    "                )\n",
    "        layers = []\n",
    "        layers.append(ResidualBlock(inchannel,outchannel,stride,short_cut))\n",
    "        for i in range(1, block_num):\n",
    "            layers.append(ResidualBlock(outchannel,outchannel))#输入和输出要一致\n",
    "        return nn.Sequential(*layers)\n",
    "    \n",
    "    def forward(self, x):\n",
    "        x = self.pre(x)\n",
    "        x = self.layer1(x)\n",
    "        x = self.layer2(x)\n",
    "        x = self.layer3(x)\n",
    "        x = self.layer4(x)\n",
    "\n",
    "        # x = F.avg_pool2d(x,7)#注意F和原生的区别\n",
    "        x = self.adp(x)\n",
    "        x = x.view(x.size(0), -1)\n",
    "        # x = x.view(-1, x.size(0))\n",
    "        x = self.classifier(x)\n",
    "        multiclass_proba = F.softmax(x, dim=1)\n",
    "        multilabel_proba = F.sigmoid(x)\n",
    "        return {\n",
    "            \"logits\": x,\n",
    "            \"multiclass_proba\": multiclass_proba,\n",
    "            \"multilabel_proba\": multilabel_proba\n",
    "        }"
   ]
  },
  {
   "cell_type": "code",
   "execution_count": 14,
   "metadata": {
    "execution": {
     "iopub.execute_input": "2020-09-07T08:04:20.373417Z",
     "iopub.status.busy": "2020-09-07T08:04:20.371655Z",
     "iopub.status.idle": "2020-09-07T08:04:20.374084Z",
     "shell.execute_reply": "2020-09-07T08:04:20.374546Z"
    },
    "papermill": {
     "duration": 0.021319,
     "end_time": "2020-09-07T08:04:20.374649",
     "exception": false,
     "start_time": "2020-09-07T08:04:20.353330",
     "status": "completed"
    },
    "tags": []
   },
   "outputs": [],
   "source": [
    "device = torch.device(\"cpu\")\n",
    "# def get_model(args: tp.Dict): # original code for emsemble\n",
    "#     # # get resnest50_fast_1s1x64d\n",
    "    \n",
    "#     model_1 = YuvNet(args)\n",
    "#     state_dict = torch.load(\"../input/bird-fold1-150-v1/bird.pth\")\n",
    "#     model_1.load_state_dict(state_dict)\n",
    "#     model_1.to(device)\n",
    "#     model_1.eval()\n",
    "    \n",
    "#     model_2 = YuvNet(args)\n",
    "#     state_dict = torch.load(\"../input/bird-label-v1/bird.pth\")\n",
    "#     model_2.load_state_dict(state_dict)\n",
    "#     model_2.to(device)\n",
    "#     model_2.eval()\n",
    "    \n",
    "#     return model_1, model_2 \n",
    "\n",
    "def get_model(config: dict):\n",
    "    model_config = config\n",
    "    model_name = model_config[\"name\"]\n",
    "    model_params = model_config[\"params\"]\n",
    "\n",
    "    if \"resnet\" in model_name:\n",
    "        model = ResNet(  # type: ignore\n",
    "            base_model_name=model_name,\n",
    "            pretrained=model_params[\"pretrained\"],\n",
    "            num_classes=model_params[\"n_classes\"])\n",
    "        state_dict = torch.load(\"./output/000_ResNet50/fold0/checkpoints/model.last.pth\")\n",
    "        model.load_state_dict(state_dict)\n",
    "        # model.to(device)\n",
    "        model.eval()\n",
    "        return model\n",
    "    else:\n",
    "        raise NotImplementedError"
   ]
  },
  {
   "cell_type": "code",
   "execution_count": 15,
   "metadata": {
    "execution": {
     "iopub.execute_input": "2020-09-07T08:04:20.401875Z",
     "iopub.status.busy": "2020-09-07T08:04:20.401254Z",
     "iopub.status.idle": "2020-09-07T08:04:26.330286Z",
     "shell.execute_reply": "2020-09-07T08:04:26.329270Z"
    },
    "papermill": {
     "duration": 5.944299,
     "end_time": "2020-09-07T08:04:26.330421",
     "exception": false,
     "start_time": "2020-09-07T08:04:20.386122",
     "status": "completed"
    },
    "tags": []
   },
   "outputs": [],
   "source": [
    "# model_1, model_2 = get_model(model_config)\n",
    "model_1 = get_model(model_config)"
   ]
  },
  {
   "cell_type": "code",
   "execution_count": 16,
   "metadata": {
    "execution": {
     "iopub.execute_input": "2020-09-07T08:04:26.362554Z",
     "iopub.status.busy": "2020-09-07T08:04:26.361787Z",
     "iopub.status.idle": "2020-09-07T08:04:26.365605Z",
     "shell.execute_reply": "2020-09-07T08:04:26.366105Z"
    },
    "papermill": {
     "duration": 0.023209,
     "end_time": "2020-09-07T08:04:26.366223",
     "exception": false,
     "start_time": "2020-09-07T08:04:26.343014",
     "status": "completed"
    },
    "tags": []
   },
   "outputs": [
    {
     "data": {
      "text/plain": [
       "ResNet(\n",
       "  (encoder): Sequential(\n",
       "    (0): Conv2d(3, 64, kernel_size=(7, 7), stride=(2, 2), padding=(3, 3), bias=False)\n",
       "    (1): BatchNorm2d(64, eps=1e-05, momentum=0.1, affine=True, track_running_stats=True)\n",
       "    (2): ReLU(inplace=True)\n",
       "    (3): MaxPool2d(kernel_size=3, stride=2, padding=1, dilation=1, ceil_mode=False)\n",
       "    (4): Sequential(\n",
       "      (0): Bottleneck(\n",
       "        (conv1): Conv2d(64, 64, kernel_size=(1, 1), stride=(1, 1), bias=False)\n",
       "        (bn1): BatchNorm2d(64, eps=1e-05, momentum=0.1, affine=True, track_running_stats=True)\n",
       "        (conv2): Conv2d(64, 64, kernel_size=(3, 3), stride=(1, 1), padding=(1, 1), bias=False)\n",
       "        (bn2): BatchNorm2d(64, eps=1e-05, momentum=0.1, affine=True, track_running_stats=True)\n",
       "        (conv3): Conv2d(64, 256, kernel_size=(1, 1), stride=(1, 1), bias=False)\n",
       "        (bn3): BatchNorm2d(256, eps=1e-05, momentum=0.1, affine=True, track_running_stats=True)\n",
       "        (relu): ReLU(inplace=True)\n",
       "        (downsample): Sequential(\n",
       "          (0): Conv2d(64, 256, kernel_size=(1, 1), stride=(1, 1), bias=False)\n",
       "          (1): BatchNorm2d(256, eps=1e-05, momentum=0.1, affine=True, track_running_stats=True)\n",
       "        )\n",
       "      )\n",
       "      (1): Bottleneck(\n",
       "        (conv1): Conv2d(256, 64, kernel_size=(1, 1), stride=(1, 1), bias=False)\n",
       "        (bn1): BatchNorm2d(64, eps=1e-05, momentum=0.1, affine=True, track_running_stats=True)\n",
       "        (conv2): Conv2d(64, 64, kernel_size=(3, 3), stride=(1, 1), padding=(1, 1), bias=False)\n",
       "        (bn2): BatchNorm2d(64, eps=1e-05, momentum=0.1, affine=True, track_running_stats=True)\n",
       "        (conv3): Conv2d(64, 256, kernel_size=(1, 1), stride=(1, 1), bias=False)\n",
       "        (bn3): BatchNorm2d(256, eps=1e-05, momentum=0.1, affine=True, track_running_stats=True)\n",
       "        (relu): ReLU(inplace=True)\n",
       "      )\n",
       "      (2): Bottleneck(\n",
       "        (conv1): Conv2d(256, 64, kernel_size=(1, 1), stride=(1, 1), bias=False)\n",
       "        (bn1): BatchNorm2d(64, eps=1e-05, momentum=0.1, affine=True, track_running_stats=True)\n",
       "        (conv2): Conv2d(64, 64, kernel_size=(3, 3), stride=(1, 1), padding=(1, 1), bias=False)\n",
       "        (bn2): BatchNorm2d(64, eps=1e-05, momentum=0.1, affine=True, track_running_stats=True)\n",
       "        (conv3): Conv2d(64, 256, kernel_size=(1, 1), stride=(1, 1), bias=False)\n",
       "        (bn3): BatchNorm2d(256, eps=1e-05, momentum=0.1, affine=True, track_running_stats=True)\n",
       "        (relu): ReLU(inplace=True)\n",
       "      )\n",
       "    )\n",
       "    (5): Sequential(\n",
       "      (0): Bottleneck(\n",
       "        (conv1): Conv2d(256, 128, kernel_size=(1, 1), stride=(1, 1), bias=False)\n",
       "        (bn1): BatchNorm2d(128, eps=1e-05, momentum=0.1, affine=True, track_running_stats=True)\n",
       "        (conv2): Conv2d(128, 128, kernel_size=(3, 3), stride=(2, 2), padding=(1, 1), bias=False)\n",
       "        (bn2): BatchNorm2d(128, eps=1e-05, momentum=0.1, affine=True, track_running_stats=True)\n",
       "        (conv3): Conv2d(128, 512, kernel_size=(1, 1), stride=(1, 1), bias=False)\n",
       "        (bn3): BatchNorm2d(512, eps=1e-05, momentum=0.1, affine=True, track_running_stats=True)\n",
       "        (relu): ReLU(inplace=True)\n",
       "        (downsample): Sequential(\n",
       "          (0): Conv2d(256, 512, kernel_size=(1, 1), stride=(2, 2), bias=False)\n",
       "          (1): BatchNorm2d(512, eps=1e-05, momentum=0.1, affine=True, track_running_stats=True)\n",
       "        )\n",
       "      )\n",
       "      (1): Bottleneck(\n",
       "        (conv1): Conv2d(512, 128, kernel_size=(1, 1), stride=(1, 1), bias=False)\n",
       "        (bn1): BatchNorm2d(128, eps=1e-05, momentum=0.1, affine=True, track_running_stats=True)\n",
       "        (conv2): Conv2d(128, 128, kernel_size=(3, 3), stride=(1, 1), padding=(1, 1), bias=False)\n",
       "        (bn2): BatchNorm2d(128, eps=1e-05, momentum=0.1, affine=True, track_running_stats=True)\n",
       "        (conv3): Conv2d(128, 512, kernel_size=(1, 1), stride=(1, 1), bias=False)\n",
       "        (bn3): BatchNorm2d(512, eps=1e-05, momentum=0.1, affine=True, track_running_stats=True)\n",
       "        (relu): ReLU(inplace=True)\n",
       "      )\n",
       "      (2): Bottleneck(\n",
       "        (conv1): Conv2d(512, 128, kernel_size=(1, 1), stride=(1, 1), bias=False)\n",
       "        (bn1): BatchNorm2d(128, eps=1e-05, momentum=0.1, affine=True, track_running_stats=True)\n",
       "        (conv2): Conv2d(128, 128, kernel_size=(3, 3), stride=(1, 1), padding=(1, 1), bias=False)\n",
       "        (bn2): BatchNorm2d(128, eps=1e-05, momentum=0.1, affine=True, track_running_stats=True)\n",
       "        (conv3): Conv2d(128, 512, kernel_size=(1, 1), stride=(1, 1), bias=False)\n",
       "        (bn3): BatchNorm2d(512, eps=1e-05, momentum=0.1, affine=True, track_running_stats=True)\n",
       "        (relu): ReLU(inplace=True)\n",
       "      )\n",
       "      (3): Bottleneck(\n",
       "        (conv1): Conv2d(512, 128, kernel_size=(1, 1), stride=(1, 1), bias=False)\n",
       "        (bn1): BatchNorm2d(128, eps=1e-05, momentum=0.1, affine=True, track_running_stats=True)\n",
       "        (conv2): Conv2d(128, 128, kernel_size=(3, 3), stride=(1, 1), padding=(1, 1), bias=False)\n",
       "        (bn2): BatchNorm2d(128, eps=1e-05, momentum=0.1, affine=True, track_running_stats=True)\n",
       "        (conv3): Conv2d(128, 512, kernel_size=(1, 1), stride=(1, 1), bias=False)\n",
       "        (bn3): BatchNorm2d(512, eps=1e-05, momentum=0.1, affine=True, track_running_stats=True)\n",
       "        (relu): ReLU(inplace=True)\n",
       "      )\n",
       "    )\n",
       "    (6): Sequential(\n",
       "      (0): Bottleneck(\n",
       "        (conv1): Conv2d(512, 256, kernel_size=(1, 1), stride=(1, 1), bias=False)\n",
       "        (bn1): BatchNorm2d(256, eps=1e-05, momentum=0.1, affine=True, track_running_stats=True)\n",
       "        (conv2): Conv2d(256, 256, kernel_size=(3, 3), stride=(2, 2), padding=(1, 1), bias=False)\n",
       "        (bn2): BatchNorm2d(256, eps=1e-05, momentum=0.1, affine=True, track_running_stats=True)\n",
       "        (conv3): Conv2d(256, 1024, kernel_size=(1, 1), stride=(1, 1), bias=False)\n",
       "        (bn3): BatchNorm2d(1024, eps=1e-05, momentum=0.1, affine=True, track_running_stats=True)\n",
       "        (relu): ReLU(inplace=True)\n",
       "        (downsample): Sequential(\n",
       "          (0): Conv2d(512, 1024, kernel_size=(1, 1), stride=(2, 2), bias=False)\n",
       "          (1): BatchNorm2d(1024, eps=1e-05, momentum=0.1, affine=True, track_running_stats=True)\n",
       "        )\n",
       "      )\n",
       "      (1): Bottleneck(\n",
       "        (conv1): Conv2d(1024, 256, kernel_size=(1, 1), stride=(1, 1), bias=False)\n",
       "        (bn1): BatchNorm2d(256, eps=1e-05, momentum=0.1, affine=True, track_running_stats=True)\n",
       "        (conv2): Conv2d(256, 256, kernel_size=(3, 3), stride=(1, 1), padding=(1, 1), bias=False)\n",
       "        (bn2): BatchNorm2d(256, eps=1e-05, momentum=0.1, affine=True, track_running_stats=True)\n",
       "        (conv3): Conv2d(256, 1024, kernel_size=(1, 1), stride=(1, 1), bias=False)\n",
       "        (bn3): BatchNorm2d(1024, eps=1e-05, momentum=0.1, affine=True, track_running_stats=True)\n",
       "        (relu): ReLU(inplace=True)\n",
       "      )\n",
       "      (2): Bottleneck(\n",
       "        (conv1): Conv2d(1024, 256, kernel_size=(1, 1), stride=(1, 1), bias=False)\n",
       "        (bn1): BatchNorm2d(256, eps=1e-05, momentum=0.1, affine=True, track_running_stats=True)\n",
       "        (conv2): Conv2d(256, 256, kernel_size=(3, 3), stride=(1, 1), padding=(1, 1), bias=False)\n",
       "        (bn2): BatchNorm2d(256, eps=1e-05, momentum=0.1, affine=True, track_running_stats=True)\n",
       "        (conv3): Conv2d(256, 1024, kernel_size=(1, 1), stride=(1, 1), bias=False)\n",
       "        (bn3): BatchNorm2d(1024, eps=1e-05, momentum=0.1, affine=True, track_running_stats=True)\n",
       "        (relu): ReLU(inplace=True)\n",
       "      )\n",
       "      (3): Bottleneck(\n",
       "        (conv1): Conv2d(1024, 256, kernel_size=(1, 1), stride=(1, 1), bias=False)\n",
       "        (bn1): BatchNorm2d(256, eps=1e-05, momentum=0.1, affine=True, track_running_stats=True)\n",
       "        (conv2): Conv2d(256, 256, kernel_size=(3, 3), stride=(1, 1), padding=(1, 1), bias=False)\n",
       "        (bn2): BatchNorm2d(256, eps=1e-05, momentum=0.1, affine=True, track_running_stats=True)\n",
       "        (conv3): Conv2d(256, 1024, kernel_size=(1, 1), stride=(1, 1), bias=False)\n",
       "        (bn3): BatchNorm2d(1024, eps=1e-05, momentum=0.1, affine=True, track_running_stats=True)\n",
       "        (relu): ReLU(inplace=True)\n",
       "      )\n",
       "      (4): Bottleneck(\n",
       "        (conv1): Conv2d(1024, 256, kernel_size=(1, 1), stride=(1, 1), bias=False)\n",
       "        (bn1): BatchNorm2d(256, eps=1e-05, momentum=0.1, affine=True, track_running_stats=True)\n",
       "        (conv2): Conv2d(256, 256, kernel_size=(3, 3), stride=(1, 1), padding=(1, 1), bias=False)\n",
       "        (bn2): BatchNorm2d(256, eps=1e-05, momentum=0.1, affine=True, track_running_stats=True)\n",
       "        (conv3): Conv2d(256, 1024, kernel_size=(1, 1), stride=(1, 1), bias=False)\n",
       "        (bn3): BatchNorm2d(1024, eps=1e-05, momentum=0.1, affine=True, track_running_stats=True)\n",
       "        (relu): ReLU(inplace=True)\n",
       "      )\n",
       "      (5): Bottleneck(\n",
       "        (conv1): Conv2d(1024, 256, kernel_size=(1, 1), stride=(1, 1), bias=False)\n",
       "        (bn1): BatchNorm2d(256, eps=1e-05, momentum=0.1, affine=True, track_running_stats=True)\n",
       "        (conv2): Conv2d(256, 256, kernel_size=(3, 3), stride=(1, 1), padding=(1, 1), bias=False)\n",
       "        (bn2): BatchNorm2d(256, eps=1e-05, momentum=0.1, affine=True, track_running_stats=True)\n",
       "        (conv3): Conv2d(256, 1024, kernel_size=(1, 1), stride=(1, 1), bias=False)\n",
       "        (bn3): BatchNorm2d(1024, eps=1e-05, momentum=0.1, affine=True, track_running_stats=True)\n",
       "        (relu): ReLU(inplace=True)\n",
       "      )\n",
       "    )\n",
       "    (7): Sequential(\n",
       "      (0): Bottleneck(\n",
       "        (conv1): Conv2d(1024, 512, kernel_size=(1, 1), stride=(1, 1), bias=False)\n",
       "        (bn1): BatchNorm2d(512, eps=1e-05, momentum=0.1, affine=True, track_running_stats=True)\n",
       "        (conv2): Conv2d(512, 512, kernel_size=(3, 3), stride=(2, 2), padding=(1, 1), bias=False)\n",
       "        (bn2): BatchNorm2d(512, eps=1e-05, momentum=0.1, affine=True, track_running_stats=True)\n",
       "        (conv3): Conv2d(512, 2048, kernel_size=(1, 1), stride=(1, 1), bias=False)\n",
       "        (bn3): BatchNorm2d(2048, eps=1e-05, momentum=0.1, affine=True, track_running_stats=True)\n",
       "        (relu): ReLU(inplace=True)\n",
       "        (downsample): Sequential(\n",
       "          (0): Conv2d(1024, 2048, kernel_size=(1, 1), stride=(2, 2), bias=False)\n",
       "          (1): BatchNorm2d(2048, eps=1e-05, momentum=0.1, affine=True, track_running_stats=True)\n",
       "        )\n",
       "      )\n",
       "      (1): Bottleneck(\n",
       "        (conv1): Conv2d(2048, 512, kernel_size=(1, 1), stride=(1, 1), bias=False)\n",
       "        (bn1): BatchNorm2d(512, eps=1e-05, momentum=0.1, affine=True, track_running_stats=True)\n",
       "        (conv2): Conv2d(512, 512, kernel_size=(3, 3), stride=(1, 1), padding=(1, 1), bias=False)\n",
       "        (bn2): BatchNorm2d(512, eps=1e-05, momentum=0.1, affine=True, track_running_stats=True)\n",
       "        (conv3): Conv2d(512, 2048, kernel_size=(1, 1), stride=(1, 1), bias=False)\n",
       "        (bn3): BatchNorm2d(2048, eps=1e-05, momentum=0.1, affine=True, track_running_stats=True)\n",
       "        (relu): ReLU(inplace=True)\n",
       "      )\n",
       "      (2): Bottleneck(\n",
       "        (conv1): Conv2d(2048, 512, kernel_size=(1, 1), stride=(1, 1), bias=False)\n",
       "        (bn1): BatchNorm2d(512, eps=1e-05, momentum=0.1, affine=True, track_running_stats=True)\n",
       "        (conv2): Conv2d(512, 512, kernel_size=(3, 3), stride=(1, 1), padding=(1, 1), bias=False)\n",
       "        (bn2): BatchNorm2d(512, eps=1e-05, momentum=0.1, affine=True, track_running_stats=True)\n",
       "        (conv3): Conv2d(512, 2048, kernel_size=(1, 1), stride=(1, 1), bias=False)\n",
       "        (bn3): BatchNorm2d(2048, eps=1e-05, momentum=0.1, affine=True, track_running_stats=True)\n",
       "        (relu): ReLU(inplace=True)\n",
       "      )\n",
       "    )\n",
       "    (8): AdaptiveMaxPool2d(output_size=1)\n",
       "  )\n",
       "  (classifier): Sequential(\n",
       "    (0): Linear(in_features=2048, out_features=1024, bias=True)\n",
       "    (1): ReLU()\n",
       "    (2): Dropout(p=0.2, inplace=False)\n",
       "    (3): Linear(in_features=1024, out_features=1024, bias=True)\n",
       "    (4): ReLU()\n",
       "    (5): Dropout(p=0.2, inplace=False)\n",
       "    (6): Linear(in_features=1024, out_features=152, bias=True)\n",
       "  )\n",
       ")"
      ]
     },
     "execution_count": 16,
     "metadata": {},
     "output_type": "execute_result"
    }
   ],
   "source": [
    "model_1"
   ]
  },
  {
   "cell_type": "code",
   "execution_count": 17,
   "metadata": {
    "execution": {
     "iopub.execute_input": "2020-09-07T08:04:26.395879Z",
     "iopub.status.busy": "2020-09-07T08:04:26.394977Z",
     "iopub.status.idle": "2020-09-07T08:04:26.399060Z",
     "shell.execute_reply": "2020-09-07T08:04:26.398608Z"
    },
    "papermill": {
     "duration": 0.021055,
     "end_time": "2020-09-07T08:04:26.399175",
     "exception": false,
     "start_time": "2020-09-07T08:04:26.378120",
     "status": "completed"
    },
    "tags": []
   },
   "outputs": [],
   "source": [
    "model_2 = get_model(model_config) # for emsemble"
   ]
  },
  {
   "cell_type": "markdown",
   "metadata": {
    "papermill": {
     "duration": 0.012614,
     "end_time": "2020-09-07T08:04:26.449384",
     "exception": false,
     "start_time": "2020-09-07T08:04:26.436770",
     "status": "completed"
    },
    "tags": []
   },
   "source": [
    "## Prediction loop"
   ]
  },
  {
   "cell_type": "code",
   "execution_count": 18,
   "metadata": {},
   "outputs": [],
   "source": [
    "def prediction_for_clip_new(test_df: pd.DataFrame, \n",
    "                        clip: np.ndarray, \n",
    "                        model: ResNet, \n",
    "                        mel_params: dict, \n",
    "                        threshold=0.5):\n",
    "\n",
    "    dataset = TestDatasetNew(df=test_df, \n",
    "                          clip=clip,\n",
    "                          img_size=224,\n",
    "                          melspectrogram_parameters=mel_params)\n",
    "    loader = data.DataLoader(dataset, batch_size=1, shuffle=False)\n",
    "    device = torch.device(\"cuda\" if torch.cuda.is_available() else \"cpu\")\n",
    "    \n",
    "    model_1.eval()\n",
    "    model_2.eval()\n",
    "    prediction_df = pd.DataFrame(None, columns=['file_id', 'end_time', 'predictions'])\n",
    "    for image, file_id, end_time in progress_bar(loader):\n",
    "\n",
    "        # row_id = row_id[0] ?\n",
    "        # if site in {\"site_1\", \"site_2\"}:\n",
    "        #image = image.unsqueeze(0)\n",
    "        image = image.to(device)\n",
    "        #print('site 1 image ',image.shape)\n",
    "        with torch.no_grad():\n",
    "            prediction1 = model_1(image)\n",
    "            prediction2 = model_2(image)\n",
    "            # proba1 = prediction1.detach().cpu().numpy().reshape(-1)\n",
    "            # proba2 = prediction2.detach().cpu().numpy().reshape(-1)\n",
    "            proba1 = prediction1[\"multiclass_proba\"].numpy().reshape(-1)\n",
    "            proba2 = prediction2[\"multiclass_proba\"].numpy().reshape(-1)\n",
    "        # print('proba1 ',proba1.shape)\n",
    "        # print('proba2 ',proba2.shape)\n",
    "        proba = (proba1 + proba2)/2.\n",
    "        # print('proba ',proba)\n",
    "        events = proba >= threshold\n",
    "        labels = np.argwhere(events).reshape(-1).tolist()\n",
    "        #print('this is site 1 labels ',labels)\n",
    "\n",
    "        file_id_str = str(file_id[0])\n",
    "        end_time_int = int(end_time[0])\n",
    "\n",
    "        \n",
    "        if len(labels) == 0:\n",
    "            \n",
    "            print('file_id',file_id_str)\n",
    "            print('end_time', end_time_int)\n",
    "            cur_prediction = pd.DataFrame({\"file_id\" : file_id_str, \n",
    "                                        \"end_time\" : end_time_int,\n",
    "                                        \"predictions\" : \"nocall\"}, index = [0])\n",
    "        else:\n",
    "            labels_str_list = list(map(lambda x: INV_BIRD_CODE[x], labels))\n",
    "            label_string = \" \".join(labels_str_list)\n",
    "            cur_prediction = pd.DataFrame({\"file_id\" : file_id_str, \n",
    "                                        \"end_time\" : end_time_int,\n",
    "                                        \"predictions\" : label_string}, index = [0])\n",
    "        # print(\"current prediction:\", cur_prediction)\n",
    "        prediction_df = prediction_df.append(cur_prediction, ignore_index=True)\n",
    "        # print(\"prediction_df:\", prediction_df)\n",
    "    return prediction_df"
   ]
  },
  {
   "cell_type": "code",
   "execution_count": 19,
   "metadata": {
    "execution": {
     "iopub.execute_input": "2020-09-07T08:04:26.545086Z",
     "iopub.status.busy": "2020-09-07T08:04:26.544201Z",
     "iopub.status.idle": "2020-09-07T08:04:26.548578Z",
     "shell.execute_reply": "2020-09-07T08:04:26.547858Z"
    },
    "papermill": {
     "duration": 0.02789,
     "end_time": "2020-09-07T08:04:26.548691",
     "exception": false,
     "start_time": "2020-09-07T08:04:26.520801",
     "status": "completed"
    },
    "tags": []
   },
   "outputs": [
    {
     "data": {
      "text/html": [
       "<div>\n",
       "<style scoped>\n",
       "    .dataframe tbody tr th:only-of-type {\n",
       "        vertical-align: middle;\n",
       "    }\n",
       "\n",
       "    .dataframe tbody tr th {\n",
       "        vertical-align: top;\n",
       "    }\n",
       "\n",
       "    .dataframe thead th {\n",
       "        text-align: right;\n",
       "    }\n",
       "</style>\n",
       "<table border=\"1\" class=\"dataframe\">\n",
       "  <thead>\n",
       "    <tr style=\"text-align: right;\">\n",
       "      <th></th>\n",
       "      <th>row_id</th>\n",
       "      <th>file_id</th>\n",
       "      <th>bird</th>\n",
       "      <th>end_time</th>\n",
       "    </tr>\n",
       "  </thead>\n",
       "  <tbody>\n",
       "    <tr>\n",
       "      <th>0</th>\n",
       "      <td>soundscape_453028782_akiapo_5</td>\n",
       "      <td>soundscape_453028782</td>\n",
       "      <td>akiapo</td>\n",
       "      <td>5</td>\n",
       "    </tr>\n",
       "    <tr>\n",
       "      <th>1</th>\n",
       "      <td>soundscape_453028782_akiapo_10</td>\n",
       "      <td>soundscape_453028782</td>\n",
       "      <td>akiapo</td>\n",
       "      <td>10</td>\n",
       "    </tr>\n",
       "    <tr>\n",
       "      <th>2</th>\n",
       "      <td>soundscape_453028782_akiapo_15</td>\n",
       "      <td>soundscape_453028782</td>\n",
       "      <td>akiapo</td>\n",
       "      <td>15</td>\n",
       "    </tr>\n",
       "    <tr>\n",
       "      <th>3</th>\n",
       "      <td>soundscape_453028782_aniani_5</td>\n",
       "      <td>soundscape_453028782</td>\n",
       "      <td>aniani</td>\n",
       "      <td>5</td>\n",
       "    </tr>\n",
       "    <tr>\n",
       "      <th>4</th>\n",
       "      <td>soundscape_453028782_aniani_10</td>\n",
       "      <td>soundscape_453028782</td>\n",
       "      <td>aniani</td>\n",
       "      <td>10</td>\n",
       "    </tr>\n",
       "  </tbody>\n",
       "</table>\n",
       "</div>"
      ],
      "text/plain": [
       "                           row_id               file_id    bird  end_time\n",
       "0   soundscape_453028782_akiapo_5  soundscape_453028782  akiapo         5\n",
       "1  soundscape_453028782_akiapo_10  soundscape_453028782  akiapo        10\n",
       "2  soundscape_453028782_akiapo_15  soundscape_453028782  akiapo        15\n",
       "3   soundscape_453028782_aniani_5  soundscape_453028782  aniani         5\n",
       "4  soundscape_453028782_aniani_10  soundscape_453028782  aniani        10"
      ]
     },
     "execution_count": 19,
     "metadata": {},
     "output_type": "execute_result"
    }
   ],
   "source": [
    "test.head()"
   ]
  },
  {
   "cell_type": "code",
   "execution_count": 20,
   "metadata": {
    "execution": {
     "iopub.execute_input": "2020-09-07T08:04:26.585162Z",
     "iopub.status.busy": "2020-09-07T08:04:26.584217Z",
     "iopub.status.idle": "2020-09-07T08:04:26.589318Z",
     "shell.execute_reply": "2020-09-07T08:04:26.588656Z"
    },
    "papermill": {
     "duration": 0.027019,
     "end_time": "2020-09-07T08:04:26.589416",
     "exception": false,
     "start_time": "2020-09-07T08:04:26.562397",
     "status": "completed"
    },
    "tags": []
   },
   "outputs": [
    {
     "data": {
      "text/plain": [
       "15"
      ]
     },
     "execution_count": 20,
     "metadata": {},
     "output_type": "execute_result"
    }
   ],
   "source": [
    "test.end_time.max()"
   ]
  },
  {
   "cell_type": "code",
   "execution_count": 21,
   "metadata": {
    "_kg_hide-input": true,
    "execution": {
     "iopub.execute_input": "2020-09-07T08:04:26.627163Z",
     "iopub.status.busy": "2020-09-07T08:04:26.626329Z",
     "iopub.status.idle": "2020-09-07T08:04:26.629345Z",
     "shell.execute_reply": "2020-09-07T08:04:26.628785Z"
    },
    "papermill": {
     "duration": 0.026871,
     "end_time": "2020-09-07T08:04:26.629438",
     "exception": false,
     "start_time": "2020-09-07T08:04:26.602567",
     "status": "completed"
    },
    "tags": []
   },
   "outputs": [],
   "source": [
    "def prediction(test_df: pd.DataFrame,\n",
    "               test_audio: Path,\n",
    "               model_config: dict,\n",
    "               mel_params: dict,\n",
    "               target_sr: int,\n",
    "               threshold=0.5):\n",
    "    model = get_model(model_config)\n",
    "    unique_file_id = test_df.file_id.unique()\n",
    "\n",
    "    warnings.filterwarnings(\"ignore\")\n",
    "    prediction_dfs = pd.DataFrame(None, columns=['file_id', 'end_time', 'predictions'])\n",
    "    for file_id in unique_file_id:\n",
    "        with timer(f\"Loading {file_id}\"):\n",
    "            clip, _ = librosa.load(test_audio / (file_id + \".ogg\"),\n",
    "                                   sr=target_sr,\n",
    "                                   mono=True,\n",
    "                                   res_type=\"kaiser_fast\")\n",
    "        \n",
    "        test_df_for_file_id = test_df.query(\n",
    "            f\"file_id == '{file_id}'\").reset_index(drop=True)\n",
    "        with timer(f\"Prediction on {file_id}\"):\n",
    "            prediction_dict = prediction_for_clip_new(test_df_for_file_id,\n",
    "                                                  clip=clip,\n",
    "                                                  model=model,\n",
    "                                                  mel_params=mel_params,\n",
    "                                                  threshold=threshold)\n",
    "            # print(\"prediction_dict\", prediction_dict)\n",
    "        # row_id = list(prediction_dict.keys())\n",
    "        # birds = list(prediction_dict.values())\n",
    "        # prediction_df = pd.DataFrame({\n",
    "        #     \"row_id\": row_id,\n",
    "        #     \"birds\": birds\n",
    "        # })\n",
    "        prediction_dfs = prediction_dfs.append(prediction_dict, ignore_index=True)\n",
    "    \n",
    "    # prediction_df = pd.concat(prediction_dfs, axis=0, sort=False).reset_index(drop=True)\n",
    "    return prediction_dfs"
   ]
  },
  {
   "cell_type": "markdown",
   "metadata": {
    "papermill": {
     "duration": 0.013303,
     "end_time": "2020-09-07T08:04:26.655642",
     "exception": false,
     "start_time": "2020-09-07T08:04:26.642339",
     "status": "completed"
    },
    "tags": []
   },
   "source": [
    "## Prediction"
   ]
  },
  {
   "cell_type": "code",
   "execution_count": 33,
   "metadata": {
    "_kg_hide-output": true,
    "execution": {
     "iopub.execute_input": "2020-09-07T08:04:26.688032Z",
     "iopub.status.busy": "2020-09-07T08:04:26.687241Z",
     "iopub.status.idle": "2020-09-07T08:04:47.550163Z",
     "shell.execute_reply": "2020-09-07T08:04:47.549592Z"
    },
    "papermill": {
     "duration": 20.881251,
     "end_time": "2020-09-07T08:04:47.550273",
     "exception": false,
     "start_time": "2020-09-07T08:04:26.669022",
     "status": "completed"
    },
    "tags": []
   },
   "outputs": [
    {
     "data": {
      "text/html": [
       "\n",
       "<style>\n",
       "    /* Turns off some styling */\n",
       "    progress {\n",
       "        /* gets rid of default border in Firefox and Opera. */\n",
       "        border: none;\n",
       "        /* Needs to be in here for Safari polyfill so background images work as expected. */\n",
       "        background-size: auto;\n",
       "    }\n",
       "    .progress-bar-interrupted, .progress-bar-interrupted::-webkit-progress-bar {\n",
       "        background: #F44336;\n",
       "    }\n",
       "</style>\n"
      ],
      "text/plain": [
       "<IPython.core.display.HTML object>"
      ]
     },
     "metadata": {},
     "output_type": "display_data"
    },
    {
     "data": {
      "text/html": [
       "\n",
       "    <div>\n",
       "      <progress value='3' class='' max='3' style='width:300px; height:20px; vertical-align: middle;'></progress>\n",
       "      100.00% [3/3 00:04<00:00]\n",
       "    </div>\n",
       "    "
      ],
      "text/plain": [
       "<IPython.core.display.HTML object>"
      ]
     },
     "metadata": {},
     "output_type": "display_data"
    },
    {
     "data": {
      "text/html": [
       "<div>\n",
       "<style scoped>\n",
       "    .dataframe tbody tr th:only-of-type {\n",
       "        vertical-align: middle;\n",
       "    }\n",
       "\n",
       "    .dataframe tbody tr th {\n",
       "        vertical-align: top;\n",
       "    }\n",
       "\n",
       "    .dataframe thead th {\n",
       "        text-align: right;\n",
       "    }\n",
       "</style>\n",
       "<table border=\"1\" class=\"dataframe\">\n",
       "  <thead>\n",
       "    <tr style=\"text-align: right;\">\n",
       "      <th></th>\n",
       "      <th>file_id</th>\n",
       "      <th>end_time</th>\n",
       "      <th>predictions</th>\n",
       "    </tr>\n",
       "  </thead>\n",
       "  <tbody>\n",
       "    <tr>\n",
       "      <th>0</th>\n",
       "      <td>soundscape_453028782</td>\n",
       "      <td>5</td>\n",
       "      <td>arcter rudtur sander</td>\n",
       "    </tr>\n",
       "    <tr>\n",
       "      <th>1</th>\n",
       "      <td>soundscape_453028782</td>\n",
       "      <td>10</td>\n",
       "      <td>dunlin rudtur sander</td>\n",
       "    </tr>\n",
       "    <tr>\n",
       "      <th>2</th>\n",
       "      <td>soundscape_453028782</td>\n",
       "      <td>15</td>\n",
       "      <td>dunlin rudtur sander</td>\n",
       "    </tr>\n",
       "  </tbody>\n",
       "</table>\n",
       "</div>"
      ],
      "text/plain": [
       "                file_id end_time           predictions\n",
       "0  soundscape_453028782        5  arcter rudtur sander\n",
       "1  soundscape_453028782       10  dunlin rudtur sander\n",
       "2  soundscape_453028782       15  dunlin rudtur sander"
      ]
     },
     "execution_count": 33,
     "metadata": {},
     "output_type": "execute_result"
    }
   ],
   "source": [
    "prediction_dfs = prediction(test_df=test_unique,\n",
    "                        test_audio=TEST_AUDIO_DIR,\n",
    "                        model_config=model_config,\n",
    "                        mel_params=melspectrogram_parameters,\n",
    "                        target_sr=TARGET_SR,\n",
    "                        threshold=0.05)\n",
    "\n",
    "prediction_dfs"
   ]
  },
  {
   "cell_type": "code",
   "execution_count": 45,
   "metadata": {
    "execution": {
     "iopub.execute_input": "2020-09-07T08:04:47.605102Z",
     "iopub.status.busy": "2020-09-07T08:04:47.604491Z",
     "iopub.status.idle": "2020-09-07T08:04:47.610850Z",
     "shell.execute_reply": "2020-09-07T08:04:47.610341Z"
    },
    "papermill": {
     "duration": 0.04135,
     "end_time": "2020-09-07T08:04:47.610947",
     "exception": false,
     "start_time": "2020-09-07T08:04:47.569597",
     "status": "completed"
    },
    "tags": []
   },
   "outputs": [
    {
     "name": "stdout",
     "output_type": "stream",
     "text": [
      "                           row_id target\n",
      "0   soundscape_453028782_akiapo_5  False\n",
      "1  soundscape_453028782_akiapo_10  False\n",
      "2  soundscape_453028782_akiapo_15  False\n",
      "3   soundscape_453028782_aniani_5  False\n",
      "4  soundscape_453028782_aniani_10  False\n",
      "5  soundscape_453028782_aniani_15  False\n"
     ]
    }
   ],
   "source": [
    "submission = pd.DataFrame(None, columns=['row_id', 'target'])\n",
    "\n",
    "for _, row in test.iterrows():\n",
    "    lst = prediction_dfs[prediction_dfs['file_id'] == row.file_id][prediction_dfs['end_time'] == row.end_time]['predictions'].str.split(' ')\n",
    "    cur_prediction = pd.DataFrame({\"row_id\" : row.row_id, \n",
    "                                        \"target\" : row.bird in lst}, index = [0])\n",
    "    submission = submission.append(cur_prediction, ignore_index=True)\n",
    "\n",
    "print(submission)\n",
    "submission.to_csv(\"submission.csv\", index=False)"
   ]
  }
 ],
 "metadata": {
  "kernelspec": {
   "display_name": "Python 3",
   "language": "python",
   "name": "python3"
  },
  "language_info": {
   "codemirror_mode": {
    "name": "ipython",
    "version": 3
   },
   "file_extension": ".py",
   "mimetype": "text/x-python",
   "name": "python",
   "nbconvert_exporter": "python",
   "pygments_lexer": "ipython3",
   "version": "3.7.9"
  },
  "papermill": {
   "duration": 38.913744,
   "end_time": "2020-09-07T08:04:49.001330",
   "environment_variables": {},
   "exception": null,
   "input_path": "__notebook__.ipynb",
   "output_path": "__notebook__.ipynb",
   "parameters": {},
   "start_time": "2020-09-07T08:04:10.087586",
   "version": "2.1.0"
  }
 },
 "nbformat": 4,
 "nbformat_minor": 4
}
